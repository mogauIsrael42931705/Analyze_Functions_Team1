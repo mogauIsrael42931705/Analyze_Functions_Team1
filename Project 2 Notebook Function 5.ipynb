{
 "cells": [
  {
   "cell_type": "code",
   "execution_count": 1,
   "metadata": {},
   "outputs": [
    {
     "name": "stdout",
     "output_type": "stream",
     "text": [
      "          Date  Tweets\n",
      "0   25-11-2019       2\n",
      "1   26-10-2019       1\n"
     ]
    }
   ],
   "source": [
    "import number_of_tweets_per_day as td\n",
    "import io, pandas\n",
    "\n",
    "csv = io.StringIO('''\\\n",
    "Tweets,date\n",
    "\"@CityofCTAlerts #OMG #BBQ hi hi @me\", 25-11-2019\n",
    "\"@CityofCTAlerts hi hi @you\", 26-10-2019\n",
    "\"hi hi @us lol!!\", 25-11-2019\\\n",
    "''')\n",
    "\n",
    "df = pandas.read_csv(csv)\n",
    "print(td.number_of_tweets_per_day(df))"
   ]
  }
 ],
 "metadata": {
  "kernelspec": {
   "display_name": "Python 3",
   "language": "python",
   "name": "python3"
  },
  "language_info": {
   "codemirror_mode": {
    "name": "ipython",
    "version": 3
   },
   "file_extension": ".py",
   "mimetype": "text/x-python",
   "name": "python",
   "nbconvert_exporter": "python",
   "pygments_lexer": "ipython3",
   "version": "3.7.4"
  }
 },
 "nbformat": 4,
 "nbformat_minor": 2
}
